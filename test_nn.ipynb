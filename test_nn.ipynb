{
 "cells": [
  {
   "cell_type": "code",
   "execution_count": 1,
   "id": "e6f32ea5",
   "metadata": {},
   "outputs": [],
   "source": [
    "from network.NETWORK import NeuralNetwork\n",
    "from network.Layer_ import FullyConnected\n",
    "from network.Activation_ import ReLU\n",
    "from network.Output_ import RegressionMSE\n",
    "from network.Optimizer_ import SGD\n",
    "\n",
    "import numpy as np"
   ]
  },
  {
   "cell_type": "code",
   "execution_count": 2,
   "id": "64030218",
   "metadata": {},
   "outputs": [],
   "source": [
    "net = NeuralNetwork()"
   ]
  },
  {
   "cell_type": "code",
   "execution_count": 3,
   "id": "fee21e2a",
   "metadata": {},
   "outputs": [],
   "source": [
    "layer1 = FullyConnected(728, 728, ReLU())\n",
    "layer2 = FullyConnected(728, 1024, ReLU())\n",
    "layer3 = FullyConnected(1024, 2048, ReLU())\n",
    "layer4 = FullyConnected(2048, 4056, ReLU())\n",
    "layer5 = FullyConnected(4056, 758, ReLU())\n",
    "layer6 = FullyConnected(758, 128, ReLU())\n",
    "layer7 = FullyConnected(128, 10, ReLU())"
   ]
  },
  {
   "cell_type": "code",
   "execution_count": 4,
   "id": "8fbc3af6",
   "metadata": {},
   "outputs": [],
   "source": [
    "net.add_layer(layer1)\n",
    "net.add_layer(layer2)\n",
    "net.add_layer(layer3)\n",
    "net.add_layer(layer4)\n",
    "net.add_layer(layer5)\n",
    "net.add_layer(layer6)\n",
    "net.add_layer(layer7)"
   ]
  },
  {
   "cell_type": "code",
   "execution_count": 5,
   "id": "ee4988b6",
   "metadata": {},
   "outputs": [],
   "source": [
    "net.set_default_callback()\n",
    "net.set_output(RegressionMSE())\n",
    "opt = SGD()"
   ]
  },
  {
   "cell_type": "code",
   "execution_count": 8,
   "id": "7b25ee2b",
   "metadata": {},
   "outputs": [],
   "source": [
    "inp = np.random.randint(0, 100, size = (728, 10))\n",
    "target = np.random.randint(0, 10, size = (10, 10))\n",
    "net.init(15, 0.01)"
   ]
  },
  {
   "cell_type": "code",
   "execution_count": 9,
   "id": "e88ce707",
   "metadata": {},
   "outputs": [
    {
     "name": "stdout",
     "output_type": "stream",
     "text": [
      "[Epoch: 0, batch: 0] -> Loss = 6.944991882857704e+62\n",
      "[Epoch: 0, batch: 1] -> Loss = 6209.910549833355\n",
      "[Epoch: 0, batch: 2] -> Loss = 6199.187629340295\n",
      "[Epoch: 0, batch: 3] -> Loss = 6188.474708847235\n",
      "[Epoch: 0, batch: 4] -> Loss = 6177.771788354178\n",
      "[Epoch: 0, batch: 5] -> Loss = 6167.078867861119\n",
      "[Epoch: 0, batch: 6] -> Loss = 6156.3959473680625\n",
      "[Epoch: 0, batch: 7] -> Loss = 6145.723026875003\n",
      "[Epoch: 0, batch: 8] -> Loss = 6135.060106381943\n",
      "[Epoch: 0, batch: 9] -> Loss = 6124.407185888885\n",
      "[Epoch: 0, batch: 10] -> Loss = 6113.764265395825\n",
      "[Epoch: 0, batch: 11] -> Loss = 6103.1313449027675\n",
      "[Epoch: 0, batch: 12] -> Loss = 6092.508424409708\n",
      "[Epoch: 0, batch: 13] -> Loss = 6081.895503916649\n",
      "[Epoch: 0, batch: 14] -> Loss = 6071.292583423588\n",
      "[Epoch: 0, batch: 15] -> Loss = 6060.699662930532\n",
      "[Epoch: 0, batch: 16] -> Loss = 6050.116742437473\n",
      "[Epoch: 0, batch: 17] -> Loss = 6039.543821944413\n",
      "[Epoch: 0, batch: 18] -> Loss = 6028.980901451355\n",
      "[Epoch: 0, batch: 19] -> Loss = 6018.427980958295\n",
      "[Epoch: 1, batch: 0] -> Loss = 6007.885060465237\n",
      "[Epoch: 1, batch: 1] -> Loss = 5997.3521399721785\n",
      "[Epoch: 1, batch: 2] -> Loss = 5986.829219479119\n",
      "[Epoch: 1, batch: 3] -> Loss = 5976.316298986058\n",
      "[Epoch: 1, batch: 4] -> Loss = 5965.813378493001\n",
      "[Epoch: 1, batch: 5] -> Loss = 5955.320457999943\n",
      "[Epoch: 1, batch: 6] -> Loss = 5944.837537506883\n",
      "[Epoch: 1, batch: 7] -> Loss = 5934.3646170138245\n",
      "[Epoch: 1, batch: 8] -> Loss = 5923.901696520765\n",
      "[Epoch: 1, batch: 9] -> Loss = 5913.448776027707\n",
      "[Epoch: 1, batch: 10] -> Loss = 1363.0\n",
      "[Epoch: 1, batch: 11] -> Loss = 1363.0\n",
      "[Epoch: 1, batch: 12] -> Loss = 1363.0\n",
      "[Epoch: 1, batch: 13] -> Loss = 1363.0\n",
      "[Epoch: 1, batch: 14] -> Loss = 1363.0\n",
      "[Epoch: 1, batch: 15] -> Loss = 1363.0\n",
      "[Epoch: 1, batch: 16] -> Loss = 1363.0\n",
      "[Epoch: 1, batch: 17] -> Loss = 1363.0\n",
      "[Epoch: 1, batch: 18] -> Loss = 1363.0\n",
      "[Epoch: 1, batch: 19] -> Loss = 1363.0\n",
      "[Epoch: 2, batch: 0] -> Loss = 1363.0\n",
      "[Epoch: 2, batch: 1] -> Loss = 1363.0\n",
      "[Epoch: 2, batch: 2] -> Loss = 1363.0\n",
      "[Epoch: 2, batch: 3] -> Loss = 1363.0\n",
      "[Epoch: 2, batch: 4] -> Loss = 1363.0\n",
      "[Epoch: 2, batch: 5] -> Loss = 1363.0\n",
      "[Epoch: 2, batch: 6] -> Loss = 1363.0\n",
      "[Epoch: 2, batch: 7] -> Loss = 1363.0\n",
      "[Epoch: 2, batch: 8] -> Loss = 1363.0\n",
      "[Epoch: 2, batch: 9] -> Loss = 1363.0\n",
      "[Epoch: 2, batch: 10] -> Loss = 1363.0\n",
      "[Epoch: 2, batch: 11] -> Loss = 1363.0\n",
      "[Epoch: 2, batch: 12] -> Loss = 1363.0\n",
      "[Epoch: 2, batch: 13] -> Loss = 1363.0\n",
      "[Epoch: 2, batch: 14] -> Loss = 1363.0\n",
      "[Epoch: 2, batch: 15] -> Loss = 1363.0\n"
     ]
    },
    {
     "ename": "KeyboardInterrupt",
     "evalue": "",
     "output_type": "error",
     "traceback": [
      "\u001b[1;31m---------------------------------------------------------------------------\u001b[0m",
      "\u001b[1;31mKeyboardInterrupt\u001b[0m                         Traceback (most recent call last)",
      "\u001b[1;32m<ipython-input-9-e67b4492a5b1>\u001b[0m in \u001b[0;36m<module>\u001b[1;34m\u001b[0m\n\u001b[1;32m----> 1\u001b[1;33m \u001b[0mnet\u001b[0m\u001b[1;33m.\u001b[0m\u001b[0mfit\u001b[0m\u001b[1;33m(\u001b[0m\u001b[0minp\u001b[0m\u001b[1;33m,\u001b[0m \u001b[0mtarget\u001b[0m\u001b[1;33m,\u001b[0m \u001b[1;36m10\u001b[0m\u001b[1;33m,\u001b[0m \u001b[1;36m10\u001b[0m\u001b[1;33m,\u001b[0m \u001b[0mopt\u001b[0m\u001b[1;33m)\u001b[0m\u001b[1;33m\u001b[0m\u001b[1;33m\u001b[0m\u001b[0m\n\u001b[0m",
      "\u001b[1;32mD:\\PYTHON_DL\\network\\NETWORK.py\u001b[0m in \u001b[0;36mfit\u001b[1;34m(self, x, y, batch_size, nepoch, opt)\u001b[0m\n\u001b[0;32m    149\u001b[0m                 \u001b[0mself\u001b[0m\u001b[1;33m.\u001b[0m\u001b[0mforward\u001b[0m\u001b[1;33m(\u001b[0m\u001b[0mx\u001b[0m\u001b[1;33m)\u001b[0m\u001b[1;33m\u001b[0m\u001b[1;33m\u001b[0m\u001b[0m\n\u001b[0;32m    150\u001b[0m                 \u001b[0mself\u001b[0m\u001b[1;33m.\u001b[0m\u001b[0mbackprop\u001b[0m\u001b[1;33m(\u001b[0m\u001b[0mx\u001b[0m\u001b[1;33m,\u001b[0m \u001b[0my\u001b[0m\u001b[1;33m)\u001b[0m\u001b[1;33m\u001b[0m\u001b[1;33m\u001b[0m\u001b[0m\n\u001b[1;32m--> 151\u001b[1;33m                 \u001b[0mself\u001b[0m\u001b[1;33m.\u001b[0m\u001b[0mupdate\u001b[0m\u001b[1;33m(\u001b[0m\u001b[0mopt\u001b[0m\u001b[1;33m)\u001b[0m\u001b[1;33m\u001b[0m\u001b[1;33m\u001b[0m\u001b[0m\n\u001b[0m\u001b[0;32m    152\u001b[0m                 \u001b[0mself\u001b[0m\u001b[1;33m.\u001b[0m\u001b[0mm_callback\u001b[0m\u001b[1;33m.\u001b[0m\u001b[0mpost_trained_batch\u001b[0m\u001b[1;33m(\u001b[0m\u001b[0mself\u001b[0m\u001b[1;33m,\u001b[0m \u001b[0mx\u001b[0m\u001b[1;33m,\u001b[0m \u001b[0my\u001b[0m\u001b[1;33m)\u001b[0m\u001b[1;33m\u001b[0m\u001b[1;33m\u001b[0m\u001b[0m\n\u001b[0;32m    153\u001b[0m \u001b[1;33m\u001b[0m\u001b[0m\n",
      "\u001b[1;32mD:\\PYTHON_DL\\network\\NETWORK.py\u001b[0m in \u001b[0;36mupdate\u001b[1;34m(self, opt)\u001b[0m\n\u001b[0;32m    136\u001b[0m \u001b[1;33m\u001b[0m\u001b[0m\n\u001b[0;32m    137\u001b[0m         \u001b[1;32mfor\u001b[0m \u001b[0mi\u001b[0m \u001b[1;32min\u001b[0m \u001b[0mrange\u001b[0m\u001b[1;33m(\u001b[0m\u001b[1;36m0\u001b[0m\u001b[1;33m,\u001b[0m \u001b[0mnlayer\u001b[0m\u001b[1;33m)\u001b[0m\u001b[1;33m:\u001b[0m\u001b[1;33m\u001b[0m\u001b[1;33m\u001b[0m\u001b[0m\n\u001b[1;32m--> 138\u001b[1;33m             \u001b[0mself\u001b[0m\u001b[1;33m.\u001b[0m\u001b[0mm_layers\u001b[0m\u001b[1;33m[\u001b[0m\u001b[0mi\u001b[0m\u001b[1;33m]\u001b[0m\u001b[1;33m.\u001b[0m\u001b[0mupdate\u001b[0m\u001b[1;33m(\u001b[0m\u001b[0mopt\u001b[0m\u001b[1;33m)\u001b[0m\u001b[1;33m\u001b[0m\u001b[1;33m\u001b[0m\u001b[0m\n\u001b[0m\u001b[0;32m    139\u001b[0m \u001b[1;33m\u001b[0m\u001b[0m\n\u001b[0;32m    140\u001b[0m     \u001b[1;32mdef\u001b[0m \u001b[0mfit\u001b[0m\u001b[1;33m(\u001b[0m\u001b[0mself\u001b[0m\u001b[1;33m,\u001b[0m \u001b[0mx\u001b[0m\u001b[1;33m:\u001b[0m \u001b[0mARRAY\u001b[0m\u001b[1;33m,\u001b[0m \u001b[0my\u001b[0m\u001b[1;33m:\u001b[0m \u001b[0mARRAY\u001b[0m\u001b[1;33m,\u001b[0m \u001b[0mbatch_size\u001b[0m\u001b[1;33m:\u001b[0m \u001b[0mint\u001b[0m\u001b[1;33m,\u001b[0m \u001b[0mnepoch\u001b[0m\u001b[1;33m:\u001b[0m \u001b[0mint\u001b[0m\u001b[1;33m,\u001b[0m \u001b[0mopt\u001b[0m\u001b[1;33m)\u001b[0m\u001b[1;33m:\u001b[0m\u001b[1;33m\u001b[0m\u001b[1;33m\u001b[0m\u001b[0m\n",
      "\u001b[1;32mD:\\PYTHON_DL\\network\\Layer_\\FullyConnected.py\u001b[0m in \u001b[0;36mupdate\u001b[1;34m(self, opt)\u001b[0m\n\u001b[0;32m     60\u001b[0m \u001b[1;33m\u001b[0m\u001b[0m\n\u001b[0;32m     61\u001b[0m     \u001b[1;32mdef\u001b[0m \u001b[0mupdate\u001b[0m\u001b[1;33m(\u001b[0m\u001b[0mself\u001b[0m\u001b[1;33m,\u001b[0m \u001b[0mopt\u001b[0m\u001b[1;33m:\u001b[0m \u001b[0mOptimizer\u001b[0m\u001b[1;33m)\u001b[0m\u001b[1;33m:\u001b[0m\u001b[1;33m\u001b[0m\u001b[1;33m\u001b[0m\u001b[0m\n\u001b[1;32m---> 62\u001b[1;33m         \u001b[0mself\u001b[0m\u001b[1;33m.\u001b[0m\u001b[0m__m_weight\u001b[0m \u001b[1;33m=\u001b[0m \u001b[0mopt\u001b[0m\u001b[1;33m.\u001b[0m\u001b[0mupdate\u001b[0m\u001b[1;33m(\u001b[0m\u001b[0mself\u001b[0m\u001b[1;33m.\u001b[0m\u001b[0m__m_dw\u001b[0m\u001b[1;33m,\u001b[0m \u001b[0mself\u001b[0m\u001b[1;33m.\u001b[0m\u001b[0m__m_weight\u001b[0m\u001b[1;33m)\u001b[0m\u001b[1;33m\u001b[0m\u001b[1;33m\u001b[0m\u001b[0m\n\u001b[0m\u001b[0;32m     63\u001b[0m         \u001b[0mself\u001b[0m\u001b[1;33m.\u001b[0m\u001b[0m__m_bias\u001b[0m \u001b[1;33m=\u001b[0m \u001b[0mopt\u001b[0m\u001b[1;33m.\u001b[0m\u001b[0mupdate\u001b[0m\u001b[1;33m(\u001b[0m\u001b[0mself\u001b[0m\u001b[1;33m.\u001b[0m\u001b[0m__m_db\u001b[0m\u001b[1;33m,\u001b[0m \u001b[0mself\u001b[0m\u001b[1;33m.\u001b[0m\u001b[0m__m_bias\u001b[0m\u001b[1;33m)\u001b[0m\u001b[1;33m\u001b[0m\u001b[1;33m\u001b[0m\u001b[0m\n\u001b[0;32m     64\u001b[0m \u001b[1;33m\u001b[0m\u001b[0m\n",
      "\u001b[1;32mD:\\PYTHON_DL\\network\\Optimizer_\\SGD.py\u001b[0m in \u001b[0;36mupdate\u001b[1;34m(self, dvec, vec)\u001b[0m\n\u001b[0;32m     19\u001b[0m \u001b[1;33m\u001b[0m\u001b[0m\n\u001b[0;32m     20\u001b[0m     \u001b[1;32mdef\u001b[0m \u001b[0mupdate\u001b[0m\u001b[1;33m(\u001b[0m\u001b[0mself\u001b[0m\u001b[1;33m,\u001b[0m \u001b[0mdvec\u001b[0m\u001b[1;33m:\u001b[0m \u001b[0mARRAY\u001b[0m\u001b[1;33m,\u001b[0m \u001b[0mvec\u001b[0m\u001b[1;33m:\u001b[0m \u001b[0mARRAY\u001b[0m\u001b[1;33m)\u001b[0m\u001b[1;33m:\u001b[0m\u001b[1;33m\u001b[0m\u001b[1;33m\u001b[0m\u001b[0m\n\u001b[1;32m---> 21\u001b[1;33m         \u001b[0mvec\u001b[0m \u001b[1;33m-=\u001b[0m \u001b[0mself\u001b[0m\u001b[1;33m.\u001b[0m\u001b[0mlrate\u001b[0m \u001b[1;33m*\u001b[0m \u001b[1;33m(\u001b[0m\u001b[0mdvec\u001b[0m \u001b[1;33m+\u001b[0m \u001b[0mself\u001b[0m\u001b[1;33m.\u001b[0m\u001b[0mdecay\u001b[0m \u001b[1;33m*\u001b[0m \u001b[0mvec\u001b[0m\u001b[1;33m)\u001b[0m\u001b[1;33m\u001b[0m\u001b[1;33m\u001b[0m\u001b[0m\n\u001b[0m\u001b[0;32m     22\u001b[0m         \u001b[1;32mreturn\u001b[0m \u001b[0mvec\u001b[0m\u001b[1;33m\u001b[0m\u001b[1;33m\u001b[0m\u001b[0m\n",
      "\u001b[1;31mKeyboardInterrupt\u001b[0m: "
     ]
    }
   ],
   "source": [
    "net.fit(inp, target, 10, 10, opt)"
   ]
  },
  {
   "cell_type": "code",
   "execution_count": 17,
   "id": "2f8a997b",
   "metadata": {},
   "outputs": [],
   "source": [
    "net.backprop(inp, target)"
   ]
  },
  {
   "cell_type": "code",
   "execution_count": 18,
   "id": "b7e0d173",
   "metadata": {},
   "outputs": [],
   "source": [
    "net.update(opt)"
   ]
  },
  {
   "cell_type": "code",
   "execution_count": 22,
   "id": "fb9f37cd",
   "metadata": {},
   "outputs": [
    {
     "data": {
      "text/plain": [
       "array([[0.],\n",
       "       [0.],\n",
       "       [0.],\n",
       "       [0.],\n",
       "       [0.]])"
      ]
     },
     "execution_count": 22,
     "metadata": {},
     "output_type": "execute_result"
    }
   ],
   "source": [
    "net.m_layers[0].output()"
   ]
  },
  {
   "cell_type": "code",
   "execution_count": 23,
   "id": "79af5723",
   "metadata": {},
   "outputs": [
    {
     "data": {
      "text/plain": [
       "array([[0.],\n",
       "       [0.],\n",
       "       [0.],\n",
       "       [0.]])"
      ]
     },
     "execution_count": 23,
     "metadata": {},
     "output_type": "execute_result"
    }
   ],
   "source": [
    "net.m_layers[1].output()"
   ]
  },
  {
   "cell_type": "code",
   "execution_count": null,
   "id": "c0bb7738",
   "metadata": {},
   "outputs": [],
   "source": [
    "n"
   ]
  }
 ],
 "metadata": {
  "kernelspec": {
   "display_name": "Python 3",
   "language": "python",
   "name": "python3"
  },
  "language_info": {
   "codemirror_mode": {
    "name": "ipython",
    "version": 3
   },
   "file_extension": ".py",
   "mimetype": "text/x-python",
   "name": "python",
   "nbconvert_exporter": "python",
   "pygments_lexer": "ipython3",
   "version": "3.8.8"
  },
  "toc": {
   "base_numbering": 1,
   "nav_menu": {},
   "number_sections": true,
   "sideBar": true,
   "skip_h1_title": false,
   "title_cell": "Table of Contents",
   "title_sidebar": "Contents",
   "toc_cell": false,
   "toc_position": {},
   "toc_section_display": true,
   "toc_window_display": false
  }
 },
 "nbformat": 4,
 "nbformat_minor": 5
}
